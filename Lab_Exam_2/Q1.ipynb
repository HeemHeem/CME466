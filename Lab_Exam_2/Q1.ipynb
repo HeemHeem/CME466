{
 "cells": [
  {
   "cell_type": "code",
   "execution_count": null,
   "metadata": {},
   "outputs": [],
   "source": [
    "import numpy as np\n",
    "import matplotlib.pyplot as plt\n",
    "import pandas as pd\n",
    "import seaborn as sns\n",
    "from sklearn.datasets import load_diabetes\n",
    "from sklearn.metrics import mean_squared_error, r2_score\n",
    "from sklearn.model_selection import train_test_split\n",
    "from sklearn.linear_model import LinearRegression, Ridge, Lasso"
   ]
  },
  {
   "cell_type": "code",
   "execution_count": null,
   "id": "2f2f1fec",
   "metadata": {},
   "outputs": [],
   "source": [
    "lin_reg = LinearRegression()\n",
    "print(lin_reg)\n",
    "diabDS = load_diabetes()\n",
    "print(diabDS.data.shape)"
   ]
  },
  {
   "cell_type": "code",
   "execution_count": null,
   "id": "184e5338",
   "metadata": {},
   "outputs": [],
   "source": [
    "df = pd.DataFrame(diabDS.data, columns = diabDS.feature_names)\n",
    "df['target'] = diabDS.target\n",
    "df"
   ]
  },
  {
   "cell_type": "code",
   "execution_count": null,
   "id": "ded54a9b",
   "metadata": {},
   "outputs": [],
   "source": [
    "corr_matrix = df.corr()\n",
    "plt.subplots(figsize=(12,12))\n",
    "sns.heatmap(data=corr_matrix,\n",
    "annot=True, cmap='Blues')"
   ]
  },
  {
   "cell_type": "code",
   "execution_count": null,
   "id": "30d45bec",
   "metadata": {},
   "outputs": [],
   "source": [
    "X = pd.concat([df['s5'], df['bp']], axis=1)\n",
    "y = df['target']"
   ]
  },
  {
   "cell_type": "code",
   "execution_count": null,
   "id": "5515a984",
   "metadata": {},
   "outputs": [],
   "source": [
    "# train models\n",
    "X_train, X_test, y_train, y_test = train_test_split(X, y, test_size=0.2)"
   ]
  },
  {
   "cell_type": "code",
   "execution_count": null,
   "id": "2b57960c",
   "metadata": {},
   "outputs": [],
   "source": [
    "mse=mean_squared_error\n",
    "from sklearn import linear_model\n",
    "lin_reg = linear_model.LinearRegression()"
   ]
  },
  {
   "cell_type": "code",
   "execution_count": null,
   "id": "66e29870",
   "metadata": {},
   "outputs": [],
   "source": [
    "lin_reg.fit(X_train,y_train)\n",
    "y_pred = lin_reg.predict(X_test)\n",
    "print(y_pred)\n",
    "print(\"Coefficients: \\n\", lin_reg.coef_)\n",
    "print(\"Mean squared error: %.2f\" % mse(y_test, y_pred))\n",
    "print(\"Coefficient of determination: %.2f\" % r2_score(y_test, y_pred))"
   ]
  }
 ],
 "metadata": {
  "language_info": {
   "name": "python"
  }
 },
 "nbformat": 4,
 "nbformat_minor": 5
}
